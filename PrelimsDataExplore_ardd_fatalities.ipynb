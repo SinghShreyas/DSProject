{
 "cells": [
  {
   "cell_type": "markdown",
   "metadata": {},
   "source": [
    "# ardd_fatalities.csv "
   ]
  },
  {
   "cell_type": "code",
   "execution_count": 14,
   "metadata": {},
   "outputs": [],
   "source": [
    "import pandas as pd\n",
    "import numpy as np\n",
    "from matplotlib import pyplot as plt\n",
    "import seaborn as sns\n",
    "%matplotlib inline"
   ]
  },
  {
   "cell_type": "code",
   "execution_count": 4,
   "metadata": {
    "scrolled": true
   },
   "outputs": [
    {
     "name": "stderr",
     "output_type": "stream",
     "text": [
      "/Users/apple/opt/anaconda3/lib/python3.7/site-packages/IPython/core/interactiveshell.py:3058: DtypeWarning: Columns (10,14,15,16,17) have mixed types. Specify dtype option on import or set low_memory=False.\n",
      "  interactivity=interactivity, compiler=compiler, result=result)\n"
     ]
    },
    {
     "data": {
      "text/html": [
       "<div>\n",
       "<style scoped>\n",
       "    .dataframe tbody tr th:only-of-type {\n",
       "        vertical-align: middle;\n",
       "    }\n",
       "\n",
       "    .dataframe tbody tr th {\n",
       "        vertical-align: top;\n",
       "    }\n",
       "\n",
       "    .dataframe thead th {\n",
       "        text-align: right;\n",
       "    }\n",
       "</style>\n",
       "<table border=\"1\" class=\"dataframe\">\n",
       "  <thead>\n",
       "    <tr style=\"text-align: right;\">\n",
       "      <th></th>\n",
       "      <th>Crash ID</th>\n",
       "      <th>State</th>\n",
       "      <th>Month</th>\n",
       "      <th>Year</th>\n",
       "      <th>Dayweek</th>\n",
       "      <th>Time</th>\n",
       "      <th>Crash Type</th>\n",
       "      <th>Bus Involvement</th>\n",
       "      <th>Heavy Rigid Truck Involvement</th>\n",
       "      <th>Articulated Truck Involvement</th>\n",
       "      <th>...</th>\n",
       "      <th>Age</th>\n",
       "      <th>National Remoteness Areas</th>\n",
       "      <th>SA4 Name 2016</th>\n",
       "      <th>National LGA Name 2017</th>\n",
       "      <th>National Road Type</th>\n",
       "      <th>Christmas Period</th>\n",
       "      <th>Easter Period</th>\n",
       "      <th>Age Group</th>\n",
       "      <th>Day of week</th>\n",
       "      <th>Time of day</th>\n",
       "    </tr>\n",
       "  </thead>\n",
       "  <tbody>\n",
       "    <tr>\n",
       "      <td>0</td>\n",
       "      <td>20205023</td>\n",
       "      <td>WA</td>\n",
       "      <td>3</td>\n",
       "      <td>2020</td>\n",
       "      <td>Monday</td>\n",
       "      <td>5:05</td>\n",
       "      <td>Multiple</td>\n",
       "      <td>No</td>\n",
       "      <td>Yes</td>\n",
       "      <td>No</td>\n",
       "      <td>...</td>\n",
       "      <td>43</td>\n",
       "      <td>NaN</td>\n",
       "      <td>NaN</td>\n",
       "      <td>NaN</td>\n",
       "      <td>NaN</td>\n",
       "      <td>No</td>\n",
       "      <td>No</td>\n",
       "      <td>40_to_64</td>\n",
       "      <td>Weekend</td>\n",
       "      <td>Night</td>\n",
       "    </tr>\n",
       "    <tr>\n",
       "      <td>1</td>\n",
       "      <td>20205028</td>\n",
       "      <td>WA</td>\n",
       "      <td>3</td>\n",
       "      <td>2020</td>\n",
       "      <td>Saturday</td>\n",
       "      <td>4:49</td>\n",
       "      <td>Single</td>\n",
       "      <td>No</td>\n",
       "      <td>No</td>\n",
       "      <td>No</td>\n",
       "      <td>...</td>\n",
       "      <td>18</td>\n",
       "      <td>NaN</td>\n",
       "      <td>NaN</td>\n",
       "      <td>NaN</td>\n",
       "      <td>NaN</td>\n",
       "      <td>No</td>\n",
       "      <td>No</td>\n",
       "      <td>17_to_25</td>\n",
       "      <td>Weekend</td>\n",
       "      <td>Night</td>\n",
       "    </tr>\n",
       "    <tr>\n",
       "      <td>2</td>\n",
       "      <td>20201041</td>\n",
       "      <td>NSW</td>\n",
       "      <td>3</td>\n",
       "      <td>2020</td>\n",
       "      <td>Sunday</td>\n",
       "      <td>22:27</td>\n",
       "      <td>Multiple</td>\n",
       "      <td>No</td>\n",
       "      <td>No</td>\n",
       "      <td>No</td>\n",
       "      <td>...</td>\n",
       "      <td>20</td>\n",
       "      <td>Outer Regional Australia</td>\n",
       "      <td>New England and North West</td>\n",
       "      <td>Inverell</td>\n",
       "      <td>National or State Highway</td>\n",
       "      <td>No</td>\n",
       "      <td>No</td>\n",
       "      <td>17_to_25</td>\n",
       "      <td>Weekend</td>\n",
       "      <td>Night</td>\n",
       "    </tr>\n",
       "    <tr>\n",
       "      <td>3</td>\n",
       "      <td>20201055</td>\n",
       "      <td>NSW</td>\n",
       "      <td>3</td>\n",
       "      <td>2020</td>\n",
       "      <td>Sunday</td>\n",
       "      <td>0:10</td>\n",
       "      <td>Single</td>\n",
       "      <td>No</td>\n",
       "      <td>No</td>\n",
       "      <td>No</td>\n",
       "      <td>...</td>\n",
       "      <td>18</td>\n",
       "      <td>Outer Regional Australia</td>\n",
       "      <td>Central West</td>\n",
       "      <td>Parkes</td>\n",
       "      <td>Sub-arterial Road</td>\n",
       "      <td>No</td>\n",
       "      <td>No</td>\n",
       "      <td>17_to_25</td>\n",
       "      <td>Weekend</td>\n",
       "      <td>Night</td>\n",
       "    </tr>\n",
       "    <tr>\n",
       "      <td>4</td>\n",
       "      <td>20205016</td>\n",
       "      <td>WA</td>\n",
       "      <td>3</td>\n",
       "      <td>2020</td>\n",
       "      <td>Saturday</td>\n",
       "      <td>23:04</td>\n",
       "      <td>Single</td>\n",
       "      <td>No</td>\n",
       "      <td>No</td>\n",
       "      <td>No</td>\n",
       "      <td>...</td>\n",
       "      <td>20</td>\n",
       "      <td>NaN</td>\n",
       "      <td>NaN</td>\n",
       "      <td>NaN</td>\n",
       "      <td>NaN</td>\n",
       "      <td>No</td>\n",
       "      <td>No</td>\n",
       "      <td>17_to_25</td>\n",
       "      <td>Weekend</td>\n",
       "      <td>Night</td>\n",
       "    </tr>\n",
       "  </tbody>\n",
       "</table>\n",
       "<p>5 rows × 23 columns</p>\n",
       "</div>"
      ],
      "text/plain": [
       "   Crash ID State  Month  Year   Dayweek   Time Crash Type Bus Involvement  \\\n",
       "0  20205023    WA      3  2020    Monday   5:05   Multiple              No   \n",
       "1  20205028    WA      3  2020  Saturday   4:49     Single              No   \n",
       "2  20201041   NSW      3  2020    Sunday  22:27   Multiple              No   \n",
       "3  20201055   NSW      3  2020    Sunday   0:10     Single              No   \n",
       "4  20205016    WA      3  2020  Saturday  23:04     Single              No   \n",
       "\n",
       "  Heavy Rigid Truck Involvement Articulated Truck Involvement  ... Age  \\\n",
       "0                           Yes                            No  ...  43   \n",
       "1                            No                            No  ...  18   \n",
       "2                            No                            No  ...  20   \n",
       "3                            No                            No  ...  18   \n",
       "4                            No                            No  ...  20   \n",
       "\n",
       "  National Remoteness Areas               SA4 Name 2016  \\\n",
       "0                       NaN                         NaN   \n",
       "1                       NaN                         NaN   \n",
       "2  Outer Regional Australia  New England and North West   \n",
       "3  Outer Regional Australia                Central West   \n",
       "4                       NaN                         NaN   \n",
       "\n",
       "   National LGA Name 2017         National Road Type Christmas Period  \\\n",
       "0                     NaN                        NaN               No   \n",
       "1                     NaN                        NaN               No   \n",
       "2                Inverell  National or State Highway               No   \n",
       "3                  Parkes          Sub-arterial Road               No   \n",
       "4                     NaN                        NaN               No   \n",
       "\n",
       "  Easter Period Age Group Day of week Time of day  \n",
       "0            No  40_to_64     Weekend       Night  \n",
       "1            No  17_to_25     Weekend       Night  \n",
       "2            No  17_to_25     Weekend       Night  \n",
       "3            No  17_to_25     Weekend       Night  \n",
       "4            No  17_to_25     Weekend       Night  \n",
       "\n",
       "[5 rows x 23 columns]"
      ]
     },
     "execution_count": 4,
     "metadata": {},
     "output_type": "execute_result"
    }
   ],
   "source": [
    "fatalities = pd.read_csv('ardd_fatalities.csv')\n",
    "fatalities.head()"
   ]
  },
  {
   "cell_type": "code",
   "execution_count": 5,
   "metadata": {},
   "outputs": [
    {
     "data": {
      "text/plain": [
       "(51202, 23)"
      ]
     },
     "execution_count": 5,
     "metadata": {},
     "output_type": "execute_result"
    }
   ],
   "source": [
    "fatalities.shape"
   ]
  },
  {
   "cell_type": "code",
   "execution_count": 10,
   "metadata": {},
   "outputs": [
    {
     "data": {
      "text/html": [
       "<div>\n",
       "<style scoped>\n",
       "    .dataframe tbody tr th:only-of-type {\n",
       "        vertical-align: middle;\n",
       "    }\n",
       "\n",
       "    .dataframe tbody tr th {\n",
       "        vertical-align: top;\n",
       "    }\n",
       "\n",
       "    .dataframe thead th {\n",
       "        text-align: right;\n",
       "    }\n",
       "</style>\n",
       "<table border=\"1\" class=\"dataframe\">\n",
       "  <thead>\n",
       "    <tr style=\"text-align: right;\">\n",
       "      <th></th>\n",
       "      <th>Crash ID</th>\n",
       "      <th>State</th>\n",
       "      <th>Month</th>\n",
       "      <th>Year</th>\n",
       "      <th>Dayweek</th>\n",
       "      <th>Time</th>\n",
       "      <th>Crash Type</th>\n",
       "      <th>Bus Involvement</th>\n",
       "      <th>Heavy Rigid Truck Involvement</th>\n",
       "      <th>Articulated Truck Involvement</th>\n",
       "      <th>Speed Limit</th>\n",
       "      <th>Road User</th>\n",
       "      <th>Gender</th>\n",
       "      <th>Age</th>\n",
       "      <th>Christmas Period</th>\n",
       "      <th>Easter Period</th>\n",
       "      <th>Age Group</th>\n",
       "      <th>Day of week</th>\n",
       "      <th>Time of day</th>\n",
       "    </tr>\n",
       "  </thead>\n",
       "  <tbody>\n",
       "    <tr>\n",
       "      <td>51197</td>\n",
       "      <td>19891498</td>\n",
       "      <td>NSW</td>\n",
       "      <td>1</td>\n",
       "      <td>1989</td>\n",
       "      <td>Sunday</td>\n",
       "      <td>14:35</td>\n",
       "      <td>Multiple</td>\n",
       "      <td>No</td>\n",
       "      <td>-9</td>\n",
       "      <td>No</td>\n",
       "      <td>80</td>\n",
       "      <td>Driver</td>\n",
       "      <td>Male</td>\n",
       "      <td>28</td>\n",
       "      <td>Yes</td>\n",
       "      <td>No</td>\n",
       "      <td>26_to_39</td>\n",
       "      <td>Weekend</td>\n",
       "      <td>Day</td>\n",
       "    </tr>\n",
       "    <tr>\n",
       "      <td>51198</td>\n",
       "      <td>19893020</td>\n",
       "      <td>Qld</td>\n",
       "      <td>1</td>\n",
       "      <td>1989</td>\n",
       "      <td>Sunday</td>\n",
       "      <td>4:00</td>\n",
       "      <td>Pedestrian</td>\n",
       "      <td>No</td>\n",
       "      <td>-9</td>\n",
       "      <td>No</td>\n",
       "      <td>60</td>\n",
       "      <td>Pedestrian</td>\n",
       "      <td>Male</td>\n",
       "      <td>18</td>\n",
       "      <td>Yes</td>\n",
       "      <td>No</td>\n",
       "      <td>17_to_25</td>\n",
       "      <td>Weekend</td>\n",
       "      <td>Night</td>\n",
       "    </tr>\n",
       "    <tr>\n",
       "      <td>51199</td>\n",
       "      <td>19893229</td>\n",
       "      <td>Qld</td>\n",
       "      <td>1</td>\n",
       "      <td>1989</td>\n",
       "      <td>Sunday</td>\n",
       "      <td>17:00</td>\n",
       "      <td>Pedestrian</td>\n",
       "      <td>No</td>\n",
       "      <td>-9</td>\n",
       "      <td>No</td>\n",
       "      <td>60</td>\n",
       "      <td>Pedestrian</td>\n",
       "      <td>Male</td>\n",
       "      <td>17</td>\n",
       "      <td>Yes</td>\n",
       "      <td>No</td>\n",
       "      <td>17_to_25</td>\n",
       "      <td>Weekend</td>\n",
       "      <td>Day</td>\n",
       "    </tr>\n",
       "    <tr>\n",
       "      <td>51200</td>\n",
       "      <td>19893344</td>\n",
       "      <td>Qld</td>\n",
       "      <td>1</td>\n",
       "      <td>1989</td>\n",
       "      <td>Sunday</td>\n",
       "      <td>1:00</td>\n",
       "      <td>Single</td>\n",
       "      <td>No</td>\n",
       "      <td>-9</td>\n",
       "      <td>No</td>\n",
       "      <td>60</td>\n",
       "      <td>Driver</td>\n",
       "      <td>Male</td>\n",
       "      <td>32</td>\n",
       "      <td>Yes</td>\n",
       "      <td>No</td>\n",
       "      <td>26_to_39</td>\n",
       "      <td>Weekend</td>\n",
       "      <td>Night</td>\n",
       "    </tr>\n",
       "    <tr>\n",
       "      <td>51201</td>\n",
       "      <td>19892467</td>\n",
       "      <td>Vic</td>\n",
       "      <td>1</td>\n",
       "      <td>1989</td>\n",
       "      <td>Sunday</td>\n",
       "      <td>1:15</td>\n",
       "      <td>Single</td>\n",
       "      <td>No</td>\n",
       "      <td>No</td>\n",
       "      <td>No</td>\n",
       "      <td>100</td>\n",
       "      <td>Passenger</td>\n",
       "      <td>Male</td>\n",
       "      <td>18</td>\n",
       "      <td>Yes</td>\n",
       "      <td>No</td>\n",
       "      <td>17_to_25</td>\n",
       "      <td>Weekend</td>\n",
       "      <td>Night</td>\n",
       "    </tr>\n",
       "  </tbody>\n",
       "</table>\n",
       "</div>"
      ],
      "text/plain": [
       "       Crash ID State  Month  Year Dayweek   Time  Crash Type Bus Involvement  \\\n",
       "51197  19891498   NSW      1  1989  Sunday  14:35    Multiple              No   \n",
       "51198  19893020   Qld      1  1989  Sunday   4:00  Pedestrian              No   \n",
       "51199  19893229   Qld      1  1989  Sunday  17:00  Pedestrian              No   \n",
       "51200  19893344   Qld      1  1989  Sunday   1:00      Single              No   \n",
       "51201  19892467   Vic      1  1989  Sunday   1:15      Single              No   \n",
       "\n",
       "      Heavy Rigid Truck Involvement Articulated Truck Involvement Speed Limit  \\\n",
       "51197                            -9                            No          80   \n",
       "51198                            -9                            No          60   \n",
       "51199                            -9                            No          60   \n",
       "51200                            -9                            No          60   \n",
       "51201                            No                            No         100   \n",
       "\n",
       "        Road User Gender  Age Christmas Period Easter Period Age Group  \\\n",
       "51197      Driver   Male   28              Yes            No  26_to_39   \n",
       "51198  Pedestrian   Male   18              Yes            No  17_to_25   \n",
       "51199  Pedestrian   Male   17              Yes            No  17_to_25   \n",
       "51200      Driver   Male   32              Yes            No  26_to_39   \n",
       "51201   Passenger   Male   18              Yes            No  17_to_25   \n",
       "\n",
       "      Day of week Time of day  \n",
       "51197     Weekend         Day  \n",
       "51198     Weekend       Night  \n",
       "51199     Weekend         Day  \n",
       "51200     Weekend       Night  \n",
       "51201     Weekend       Night  "
      ]
     },
     "execution_count": 10,
     "metadata": {},
     "output_type": "execute_result"
    }
   ],
   "source": [
    "fatalities.tail()"
   ]
  },
  {
   "cell_type": "code",
   "execution_count": 6,
   "metadata": {},
   "outputs": [
    {
     "name": "stdout",
     "output_type": "stream",
     "text": [
      "True\n"
     ]
    },
    {
     "data": {
      "text/plain": [
       "Crash ID                             0\n",
       "State                                0\n",
       "Month                                0\n",
       "Year                                 0\n",
       "Dayweek                              0\n",
       "Time                                 0\n",
       "Crash Type                           0\n",
       "Bus Involvement                      0\n",
       "Heavy Rigid Truck Involvement        0\n",
       "Articulated Truck Involvement        0\n",
       "Speed Limit                          0\n",
       "Road User                            0\n",
       "Gender                               0\n",
       "Age                                  0\n",
       "National Remoteness Areas        45869\n",
       "SA4 Name 2016                    45855\n",
       "National LGA Name 2017           45854\n",
       "National Road Type               45865\n",
       "Christmas Period                     0\n",
       "Easter Period                        0\n",
       "Age Group                            0\n",
       "Day of week                          0\n",
       "Time of day                          0\n",
       "dtype: int64"
      ]
     },
     "execution_count": 6,
     "metadata": {},
     "output_type": "execute_result"
    }
   ],
   "source": [
    "# Checking for any null value.\n",
    "print(fatalities.isnull().values.any())\n",
    "\n",
    "# Checking which column has null values\n",
    "fatalities.isnull().sum()"
   ]
  },
  {
   "cell_type": "markdown",
   "metadata": {},
   "source": [
    " ### Some initial inference of the data\n",
    " - We can discard **National remoteness areas, SA4 Name 2016, National LGA Name 2017, National Road type**.\n",
    " - We need some transformation in **age group** column"
   ]
  },
  {
   "cell_type": "code",
   "execution_count": 7,
   "metadata": {},
   "outputs": [],
   "source": [
    "fatalities = fatalities.drop(columns=['National Remoteness Areas', 'SA4 Name 2016', 'National LGA Name 2017', 'National Road Type'])"
   ]
  },
  {
   "cell_type": "code",
   "execution_count": 8,
   "metadata": {},
   "outputs": [
    {
     "name": "stdout",
     "output_type": "stream",
     "text": [
      "False\n"
     ]
    },
    {
     "data": {
      "text/plain": [
       "Crash ID                         0\n",
       "State                            0\n",
       "Month                            0\n",
       "Year                             0\n",
       "Dayweek                          0\n",
       "Time                             0\n",
       "Crash Type                       0\n",
       "Bus Involvement                  0\n",
       "Heavy Rigid Truck Involvement    0\n",
       "Articulated Truck Involvement    0\n",
       "Speed Limit                      0\n",
       "Road User                        0\n",
       "Gender                           0\n",
       "Age                              0\n",
       "Christmas Period                 0\n",
       "Easter Period                    0\n",
       "Age Group                        0\n",
       "Day of week                      0\n",
       "Time of day                      0\n",
       "dtype: int64"
      ]
     },
     "execution_count": 8,
     "metadata": {},
     "output_type": "execute_result"
    }
   ],
   "source": [
    "# Checking for any null value.\n",
    "print(fatalities.isnull().values.any())\n",
    "\n",
    "# Checking which column has null values\n",
    "fatalities.isnull().sum()"
   ]
  },
  {
   "cell_type": "code",
   "execution_count": 18,
   "metadata": {},
   "outputs": [
    {
     "name": "stdout",
     "output_type": "stream",
     "text": [
      "Bus Involvement\n",
      "-9        26\n",
      "No     50213\n",
      "Yes      963\n",
      "dtype: int64\n"
     ]
    },
    {
     "data": {
      "text/plain": [
       "<matplotlib.axes._subplots.AxesSubplot at 0x1a1f6bf290>"
      ]
     },
     "execution_count": 18,
     "metadata": {},
     "output_type": "execute_result"
    },
    {
     "data": {
      "image/png": "[encoded data removed]",
      "text/plain": [
       "<Figure size 432x288 with 1 Axes>"
      ]
     },
     "metadata": {
      "needs_background": "light"
     },
     "output_type": "display_data"
    }
   ],
   "source": [
    "print(fatalities.groupby(\"Bus Involvement\").size())\n",
    "sns.countplot(fatalities[\"Bus Involvement\"], label = \"Crash Type\")"
   ]
  },
  {
   "cell_type": "code",
   "execution_count": 17,
   "metadata": {},
   "outputs": [
    {
     "name": "stdout",
     "output_type": "stream",
     "text": [
      "Crash Type\n",
      "Multiple      21852\n",
      "Pedestrian     8077\n",
      "Single        21273\n",
      "dtype: int64\n"
     ]
    },
    {
     "data": {
      "text/plain": [
       "<matplotlib.axes._subplots.AxesSubplot at 0x1a1f55d2d0>"
      ]
     },
     "execution_count": 17,
     "metadata": {},
     "output_type": "execute_result"
    },
    {
     "data": {
      "image/png": "[encoded data removed]",
      "text/plain": [
       "<Figure size 432x288 with 1 Axes>"
      ]
     },
     "metadata": {
      "needs_background": "light"
     },
     "output_type": "display_data"
    }
   ],
   "source": [
    "print(fatalities.groupby(\"Crash Type\").size())\n",
    "sns.countplot(fatalities[\"Crash Type\"], label = \"Bus Involvement\")"
   ]
  },
  {
   "cell_type": "code",
   "execution_count": 15,
   "metadata": {},
   "outputs": [
    {
     "name": "stdout",
     "output_type": "stream",
     "text": [
      "State\n",
      "ACT      462\n",
      "NSW    15891\n",
      "NT      1591\n",
      "Qld    10059\n",
      "SA      4414\n",
      "Tas     1502\n",
      "Vic    11251\n",
      "WA      6032\n",
      "dtype: int64\n"
     ]
    },
    {
     "data": {
      "text/plain": [
       "<matplotlib.axes._subplots.AxesSubplot at 0x11e1fa8d0>"
      ]
     },
     "execution_count": 15,
     "metadata": {},
     "output_type": "execute_result"
    },
    {
     "data": {
      "image/png": "[encoded data removed]",
      "text/plain": [
       "<Figure size 432x288 with 1 Axes>"
      ]
     },
     "metadata": {
      "needs_background": "light"
     },
     "output_type": "display_data"
    }
   ],
   "source": [
    "print(fatalities.groupby(\"State\").size())\n",
    "sns.countplot(fatalities[\"State\"], label = \"States\")"
   ]
  },
  {
   "cell_type": "code",
   "execution_count": 20,
   "metadata": {},
   "outputs": [
    {
     "name": "stdout",
     "output_type": "stream",
     "text": [
      "Heavy Rigid Truck Involvement\n",
      "-9     20518\n",
      "No     29179\n",
      "Yes     1505\n",
      "dtype: int64\n"
     ]
    },
    {
     "data": {
      "text/plain": [
       "<matplotlib.axes._subplots.AxesSubplot at 0x1a1f6b8490>"
      ]
     },
     "execution_count": 20,
     "metadata": {},
     "output_type": "execute_result"
    },
    {
     "data": {
      "image/png": "[encoded data removed]",
      "text/plain": [
       "<Figure size 432x288 with 1 Axes>"
      ]
     },
     "metadata": {
      "needs_background": "light"
     },
     "output_type": "display_data"
    }
   ],
   "source": [
    "print(fatalities.groupby(\"Heavy Rigid Truck Involvement\").size())\n",
    "sns.countplot(fatalities[\"Heavy Rigid Truck Involvement\"], label = \"HRTI\")"
   ]
  },
  {
   "cell_type": "code",
   "execution_count": 21,
   "metadata": {},
   "outputs": [
    {
     "name": "stdout",
     "output_type": "stream",
     "text": [
      "Articulated Truck Involvement\n",
      "-9        26\n",
      "No     45978\n",
      "Yes     5198\n",
      "dtype: int64\n"
     ]
    },
    {
     "data": {
      "text/plain": [
       "<matplotlib.axes._subplots.AxesSubplot at 0x1a1f5a9ed0>"
      ]
     },
     "execution_count": 21,
     "metadata": {},
     "output_type": "execute_result"
    },
    {
     "data": {
      "image/png": "[encoded data removed]",
      "text/plain": [
       "<Figure size 432x288 with 1 Axes>"
      ]
     },
     "metadata": {
      "needs_background": "light"
     },
     "output_type": "display_data"
    }
   ],
   "source": [
    "print(fatalities.groupby(\"Articulated Truck Involvement\").size())\n",
    "sns.countplot(fatalities[\"Articulated Truck Involvement\"], label = \"ATI\")"
   ]
  },
  {
   "cell_type": "code",
   "execution_count": 22,
   "metadata": {},
   "outputs": [
    {
     "name": "stdout",
     "output_type": "stream",
     "text": [
      "Gender\n",
      "-9                22\n",
      "Female         14562\n",
      "Male           36617\n",
      "Unspecified        1\n",
      "dtype: int64\n"
     ]
    },
    {
     "data": {
      "text/plain": [
       "<matplotlib.axes._subplots.AxesSubplot at 0x1a1f93edd0>"
      ]
     },
     "execution_count": 22,
     "metadata": {},
     "output_type": "execute_result"
    },
    {
     "data": {
      "image/png": "[encoded data removed]",
      "text/plain": [
       "<Figure size 432x288 with 1 Axes>"
      ]
     },
     "metadata": {
      "needs_background": "light"
     },
     "output_type": "display_data"
    }
   ],
   "source": [
    "print(fatalities.groupby(\"Gender\").size())\n",
    "sns.countplot(fatalities[\"Gender\"], label = \"Gender\")"
   ]
  },
  {
   "cell_type": "code",
   "execution_count": 28,
   "metadata": {},
   "outputs": [
    {
     "data": {
      "text/plain": [
       "<matplotlib.axes._subplots.AxesSubplot at 0x1a1f629050>"
      ]
     },
     "execution_count": 28,
     "metadata": {},
     "output_type": "execute_result"
    },
    {
     "data": {
      "image/png": "[encoded data removed]",
      "text/plain": [
       "<Figure size 432x288 with 1 Axes>"
      ]
     },
     "metadata": {
      "needs_background": "light"
     },
     "output_type": "display_data"
    }
   ],
   "source": [
    "age = fatalities[\"Age\"]\n",
    "sns.distplot(age)"
   ]
  },
  {
   "cell_type": "code",
   "execution_count": 30,
   "metadata": {},
   "outputs": [
    {
     "name": "stdout",
     "output_type": "stream",
     "text": [
      "Christmas Period\n",
      "No     49599\n",
      "Yes     1603\n",
      "dtype: int64\n"
     ]
    },
    {
     "data": {
      "text/plain": [
       "<matplotlib.axes._subplots.AxesSubplot at 0x1a203f05d0>"
      ]
     },
     "execution_count": 30,
     "metadata": {},
     "output_type": "execute_result"
    },
    {
     "data": {
      "image/png": "[encoded data removed]",
      "text/plain": [
       "<Figure size 432x288 with 1 Axes>"
      ]
     },
     "metadata": {
      "needs_background": "light"
     },
     "output_type": "display_data"
    }
   ],
   "source": [
    "print(fatalities.groupby(\"Christmas Period\").size())\n",
    "sns.countplot(fatalities[\"Christmas Period\"], label = \"Christmas Period \")"
   ]
  },
  {
   "cell_type": "code",
   "execution_count": 31,
   "metadata": {},
   "outputs": [
    {
     "name": "stdout",
     "output_type": "stream",
     "text": [
      "Easter Period\n",
      "No     50963\n",
      "Yes      239\n",
      "dtype: int64\n"
     ]
    },
    {
     "data": {
      "text/plain": [
       "<matplotlib.axes._subplots.AxesSubplot at 0x1a2070cc50>"
      ]
     },
     "execution_count": 31,
     "metadata": {},
     "output_type": "execute_result"
    },
    {
     "data": {
      "image/png": "[encoded data removed]",
      "text/plain": [
       "<Figure size 432x288 with 1 Axes>"
      ]
     },
     "metadata": {
      "needs_background": "light"
     },
     "output_type": "display_data"
    }
   ],
   "source": [
    "print(fatalities.groupby(\"Easter Period\").size())\n",
    "sns.countplot(fatalities[\"Easter Period\"], label = \"Easter Period \")"
   ]
  },
  {
   "cell_type": "code",
   "execution_count": 33,
   "metadata": {},
   "outputs": [
    {
     "name": "stdout",
     "output_type": "stream",
     "text": [
      "Day of week\n",
      "Weekday    30108\n",
      "Weekend    21094\n",
      "dtype: int64\n"
     ]
    },
    {
     "data": {
      "text/plain": [
       "<matplotlib.axes._subplots.AxesSubplot at 0x1a208d4dd0>"
      ]
     },
     "execution_count": 33,
     "metadata": {},
     "output_type": "execute_result"
    },
    {
     "data": {
      "image/png": "[encoded data removed]",
      "text/plain": [
       "<Figure size 432x288 with 1 Axes>"
      ]
     },
     "metadata": {
      "needs_background": "light"
     },
     "output_type": "display_data"
    }
   ],
   "source": [
    "print(fatalities.groupby(\"Day of week\").size())\n",
    "sns.countplot(fatalities[\"Day of week\"], label = \"Day of week\")"
   ]
  },
  {
   "cell_type": "code",
   "execution_count": 34,
   "metadata": {},
   "outputs": [
    {
     "name": "stdout",
     "output_type": "stream",
     "text": [
      "Time of day\n",
      "Day      29117\n",
      "Night    22085\n",
      "dtype: int64\n"
     ]
    },
    {
     "data": {
      "text/plain": [
       "<matplotlib.axes._subplots.AxesSubplot at 0x1a204b1710>"
      ]
     },
     "execution_count": 34,
     "metadata": {},
     "output_type": "execute_result"
    },
    {
     "data": {
      "image/png": "[encoded data removed]",
      "text/plain": [
       "<Figure size 432x288 with 1 Axes>"
      ]
     },
     "metadata": {
      "needs_background": "light"
     },
     "output_type": "display_data"
    }
   ],
   "source": [
    "print(fatalities.groupby(\"Time of day\").size())\n",
    "sns.countplot(fatalities[\"Time of day\"], label = \"Time of day\")"
   ]
  },
  {
   "cell_type": "code",
   "execution_count": null,
   "metadata": {},
   "outputs": [],
   "source": []
  }
 ],
 "metadata": {
  "kernelspec": {
   "display_name": "Python 3",
   "language": "python",
   "name": "python3"
  },
  "language_info": {
   "codemirror_mode": {
    "name": "ipython",
    "version": 3
   },
   "file_extension": ".py",
   "mimetype": "text/x-python",
   "name": "python",
   "nbconvert_exporter": "python",
   "pygments_lexer": "ipython3",
   "version": "3.7.4"
  }
 },
 "nbformat": 4,
 "nbformat_minor": 2
}
