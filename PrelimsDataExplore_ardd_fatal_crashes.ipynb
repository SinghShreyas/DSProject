{
 "cells": [
  {
   "cell_type": "markdown",
   "metadata": {},
   "source": [
    "# ardd_fatal_crashes.csv"
   ]
  },
  {
   "cell_type": "code",
   "execution_count": 1,
   "metadata": {},
   "outputs": [],
   "source": [
    "import pandas as pd\n",
    "import numpy as np\n",
    "from matplotlib import pyplot as plt\n",
    "import seaborn as sns\n",
    "%matplotlib inline"
   ]
  },
  {
   "cell_type": "code",
   "execution_count": 3,
   "metadata": {},
   "outputs": [
    {
     "data": {
      "text/html": [
       "<div>\n",
       "<style scoped>\n",
       "    .dataframe tbody tr th:only-of-type {\n",
       "        vertical-align: middle;\n",
       "    }\n",
       "\n",
       "    .dataframe tbody tr th {\n",
       "        vertical-align: top;\n",
       "    }\n",
       "\n",
       "    .dataframe thead th {\n",
       "        text-align: right;\n",
       "    }\n",
       "</style>\n",
       "<table border=\"1\" class=\"dataframe\">\n",
       "  <thead>\n",
       "    <tr style=\"text-align: right;\">\n",
       "      <th></th>\n",
       "      <th>Crash ID</th>\n",
       "      <th>State</th>\n",
       "      <th>Month</th>\n",
       "      <th>Year</th>\n",
       "      <th>Dayweek</th>\n",
       "      <th>Time</th>\n",
       "      <th>Crash Type</th>\n",
       "      <th>Number Fatalities</th>\n",
       "      <th>Bus \\nInvolvement</th>\n",
       "      <th>Heavy Rigid Truck Involvement</th>\n",
       "      <th>Articulated Truck Involvement</th>\n",
       "      <th>Speed Limit</th>\n",
       "      <th>National Remoteness Areas</th>\n",
       "      <th>SA4 Name 2016</th>\n",
       "      <th>National LGA Name 2017</th>\n",
       "      <th>National Road Type</th>\n",
       "      <th>Christmas Period</th>\n",
       "      <th>Easter Period</th>\n",
       "      <th>Day of week</th>\n",
       "      <th>Time of Day</th>\n",
       "    </tr>\n",
       "  </thead>\n",
       "  <tbody>\n",
       "    <tr>\n",
       "      <td>0</td>\n",
       "      <td>20201018</td>\n",
       "      <td>NSW</td>\n",
       "      <td>3</td>\n",
       "      <td>2020</td>\n",
       "      <td>Wednesday</td>\n",
       "      <td>17:30</td>\n",
       "      <td>Single</td>\n",
       "      <td>1</td>\n",
       "      <td>No</td>\n",
       "      <td>No</td>\n",
       "      <td>No</td>\n",
       "      <td>100</td>\n",
       "      <td>Inner Regional Australia</td>\n",
       "      <td>Far West and Orana</td>\n",
       "      <td>Dubbo Regional</td>\n",
       "      <td>Sub-arterial Road</td>\n",
       "      <td>No</td>\n",
       "      <td>No</td>\n",
       "      <td>Weekday</td>\n",
       "      <td>Day</td>\n",
       "    </tr>\n",
       "    <tr>\n",
       "      <td>1</td>\n",
       "      <td>20202013</td>\n",
       "      <td>Vic</td>\n",
       "      <td>3</td>\n",
       "      <td>2020</td>\n",
       "      <td>Monday</td>\n",
       "      <td>15:16</td>\n",
       "      <td>Single</td>\n",
       "      <td>1</td>\n",
       "      <td>-9</td>\n",
       "      <td>-9</td>\n",
       "      <td>-9</td>\n",
       "      <td>-9</td>\n",
       "      <td>Major Cities of Australia</td>\n",
       "      <td>Melbourne - West</td>\n",
       "      <td>Melton (C)</td>\n",
       "      <td>Sub-arterial Road</td>\n",
       "      <td>No</td>\n",
       "      <td>No</td>\n",
       "      <td>Weekday</td>\n",
       "      <td>Day</td>\n",
       "    </tr>\n",
       "    <tr>\n",
       "      <td>2</td>\n",
       "      <td>20202037</td>\n",
       "      <td>Vic</td>\n",
       "      <td>3</td>\n",
       "      <td>2020</td>\n",
       "      <td>Saturday</td>\n",
       "      <td>14:16</td>\n",
       "      <td>Multiple</td>\n",
       "      <td>1</td>\n",
       "      <td>-9</td>\n",
       "      <td>-9</td>\n",
       "      <td>-9</td>\n",
       "      <td>60</td>\n",
       "      <td>Inner Regional Australia</td>\n",
       "      <td>Latrobe - Gippsland</td>\n",
       "      <td>Latrobe (C) (Vic.)</td>\n",
       "      <td>Local Road</td>\n",
       "      <td>No</td>\n",
       "      <td>No</td>\n",
       "      <td>Weekend</td>\n",
       "      <td>Day</td>\n",
       "    </tr>\n",
       "    <tr>\n",
       "      <td>3</td>\n",
       "      <td>20202009</td>\n",
       "      <td>Vic</td>\n",
       "      <td>3</td>\n",
       "      <td>2020</td>\n",
       "      <td>Tuesday</td>\n",
       "      <td>16:41</td>\n",
       "      <td>Multiple</td>\n",
       "      <td>1</td>\n",
       "      <td>-9</td>\n",
       "      <td>-9</td>\n",
       "      <td>-9</td>\n",
       "      <td>-9</td>\n",
       "      <td>Inner Regional Australia</td>\n",
       "      <td>Latrobe - Gippsland</td>\n",
       "      <td>South Gippsland (S)</td>\n",
       "      <td>National or State Highway</td>\n",
       "      <td>No</td>\n",
       "      <td>No</td>\n",
       "      <td>Weekday</td>\n",
       "      <td>Day</td>\n",
       "    </tr>\n",
       "    <tr>\n",
       "      <td>4</td>\n",
       "      <td>20204025</td>\n",
       "      <td>SA</td>\n",
       "      <td>3</td>\n",
       "      <td>2020</td>\n",
       "      <td>Sunday</td>\n",
       "      <td>12:27</td>\n",
       "      <td>Multiple</td>\n",
       "      <td>1</td>\n",
       "      <td>No</td>\n",
       "      <td>No</td>\n",
       "      <td>No</td>\n",
       "      <td>110</td>\n",
       "      <td>Inner Regional Australia</td>\n",
       "      <td>Barossa - Yorke - Mid North</td>\n",
       "      <td>Mallala (DC)</td>\n",
       "      <td>Local Road</td>\n",
       "      <td>No</td>\n",
       "      <td>No</td>\n",
       "      <td>Weekend</td>\n",
       "      <td>Day</td>\n",
       "    </tr>\n",
       "  </tbody>\n",
       "</table>\n",
       "</div>"
      ],
      "text/plain": [
       "   Crash ID State  Month  Year    Dayweek   Time Crash Type  \\\n",
       "0  20201018   NSW      3  2020  Wednesday  17:30     Single   \n",
       "1  20202013   Vic      3  2020     Monday  15:16     Single   \n",
       "2  20202037   Vic      3  2020   Saturday  14:16   Multiple   \n",
       "3  20202009   Vic      3  2020    Tuesday  16:41   Multiple   \n",
       "4  20204025    SA      3  2020     Sunday  12:27   Multiple   \n",
       "\n",
       "   Number Fatalities Bus \\nInvolvement Heavy Rigid Truck Involvement  \\\n",
       "0                  1                No                            No   \n",
       "1                  1                -9                            -9   \n",
       "2                  1                -9                            -9   \n",
       "3                  1                -9                            -9   \n",
       "4                  1                No                            No   \n",
       "\n",
       "  Articulated Truck Involvement Speed Limit  National Remoteness Areas  \\\n",
       "0                            No         100   Inner Regional Australia   \n",
       "1                            -9          -9  Major Cities of Australia   \n",
       "2                            -9          60   Inner Regional Australia   \n",
       "3                            -9          -9   Inner Regional Australia   \n",
       "4                            No         110   Inner Regional Australia   \n",
       "\n",
       "                 SA4 Name 2016 National LGA Name 2017  \\\n",
       "0           Far West and Orana         Dubbo Regional   \n",
       "1             Melbourne - West             Melton (C)   \n",
       "2          Latrobe - Gippsland     Latrobe (C) (Vic.)   \n",
       "3          Latrobe - Gippsland    South Gippsland (S)   \n",
       "4  Barossa - Yorke - Mid North           Mallala (DC)   \n",
       "\n",
       "          National Road Type Christmas Period Easter Period Day of week  \\\n",
       "0          Sub-arterial Road               No            No     Weekday   \n",
       "1          Sub-arterial Road               No            No     Weekday   \n",
       "2                 Local Road               No            No     Weekend   \n",
       "3  National or State Highway               No            No     Weekday   \n",
       "4                 Local Road               No            No     Weekend   \n",
       "\n",
       "  Time of Day  \n",
       "0         Day  \n",
       "1         Day  \n",
       "2         Day  \n",
       "3         Day  \n",
       "4         Day  "
      ]
     },
     "execution_count": 3,
     "metadata": {},
     "output_type": "execute_result"
    }
   ],
   "source": [
    "fatalcrashes = pd.read_csv('ardd_fatal_crashes.csv')\n",
    "fatalcrashes.head()"
   ]
  },
  {
   "cell_type": "code",
   "execution_count": 4,
   "metadata": {},
   "outputs": [
    {
     "data": {
      "text/plain": [
       "(46061, 20)"
      ]
     },
     "execution_count": 4,
     "metadata": {},
     "output_type": "execute_result"
    }
   ],
   "source": [
    "fatalcrashes.shape"
   ]
  },
  {
   "cell_type": "code",
   "execution_count": 6,
   "metadata": {},
   "outputs": [
    {
     "name": "stdout",
     "output_type": "stream",
     "text": [
      "True\n"
     ]
    },
    {
     "data": {
      "text/plain": [
       "Crash ID                             0\n",
       "State                                0\n",
       "Month                                0\n",
       "Year                                 0\n",
       "Dayweek                              0\n",
       "Time                                 0\n",
       "Crash Type                           0\n",
       "Number Fatalities                    0\n",
       "Bus \\nInvolvement                    0\n",
       "Heavy Rigid Truck Involvement        0\n",
       "Articulated Truck Involvement        0\n",
       "Speed Limit                          0\n",
       "National Remoteness Areas        40875\n",
       "SA4 Name 2016                    40861\n",
       "National LGA Name 2017           40860\n",
       "National Road Type               40871\n",
       "Christmas Period                     0\n",
       "Easter Period                        0\n",
       "Day of week                          0\n",
       "Time of Day                          0\n",
       "dtype: int64"
      ]
     },
     "execution_count": 6,
     "metadata": {},
     "output_type": "execute_result"
    }
   ],
   "source": [
    "# Checking for any null value.\n",
    "print(fatalcrashes.isnull().values.any())\n",
    "\n",
    "# Checking which column has null values\n",
    "fatalcrashes.isnull().sum()"
   ]
  },
  {
   "cell_type": "code",
   "execution_count": 7,
   "metadata": {},
   "outputs": [],
   "source": [
    "fatalcrashes = fatalcrashes.drop(columns=['National Remoteness Areas', 'SA4 Name 2016', 'National LGA Name 2017', 'National Road Type'])"
   ]
  },
  {
   "cell_type": "code",
   "execution_count": 9,
   "metadata": {},
   "outputs": [
    {
     "data": {
      "text/plain": [
       "(46061, 16)"
      ]
     },
     "execution_count": 9,
     "metadata": {},
     "output_type": "execute_result"
    }
   ],
   "source": [
    "fatalcrashes.shape"
   ]
  },
  {
   "cell_type": "code",
   "execution_count": null,
   "metadata": {},
   "outputs": [],
   "source": []
  }
 ],
 "metadata": {
  "kernelspec": {
   "display_name": "Python 3",
   "language": "python",
   "name": "python3"
  },
  "language_info": {
   "codemirror_mode": {
    "name": "ipython",
    "version": 3
   },
   "file_extension": ".py",
   "mimetype": "text/x-python",
   "name": "python",
   "nbconvert_exporter": "python",
   "pygments_lexer": "ipython3",
   "version": "3.7.4"
  }
 },
 "nbformat": 4,
 "nbformat_minor": 2
}
